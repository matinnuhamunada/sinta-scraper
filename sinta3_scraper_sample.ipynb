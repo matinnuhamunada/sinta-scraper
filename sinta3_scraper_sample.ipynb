{
  "nbformat": 4,
  "nbformat_minor": 0,
  "metadata": {
    "colab": {
      "name": "sinta3-scraper-sample.ipynb",
      "provenance": []
    },
    "kernelspec": {
      "name": "python3",
      "display_name": "Python 3"
    },
    "language_info": {
      "name": "python"
    }
  },
  "cells": [
    {
      "cell_type": "markdown",
      "metadata": {
        "id": "GcVhMSbJ62Zl"
      },
      "source": [
        "# Installation"
      ]
    },
    {
      "cell_type": "code",
      "execution_count": null,
      "metadata": {
        "id": "glDw7nIAJz7F"
      },
      "outputs": [],
      "source": [
        "!pip install -U sinta3-scraper"
      ]
    },
    {
      "cell_type": "markdown",
      "metadata": {
        "id": "FB-xZusr65nb"
      },
      "source": [
        "# Import"
      ]
    },
    {
      "cell_type": "code",
      "source": [
        "import sinta"
      ],
      "metadata": {
        "id": "tMRrcX_IJ_1R"
      },
      "execution_count": null,
      "outputs": []
    },
    {
      "cell_type": "markdown",
      "metadata": {
        "id": "EgtXxiXa7ZpM"
      },
      "source": [
        "# `author()`\n",
        "\n"
      ]
    },
    {
      "cell_type": "code",
      "source": [
        "author_id = 5975467\n",
        "author = sinta.author(author_id)\n",
        "\n",
        "author"
      ],
      "metadata": {
        "id": "ra90qUMKKIiQ"
      },
      "execution_count": null,
      "outputs": []
    }
  ]
}